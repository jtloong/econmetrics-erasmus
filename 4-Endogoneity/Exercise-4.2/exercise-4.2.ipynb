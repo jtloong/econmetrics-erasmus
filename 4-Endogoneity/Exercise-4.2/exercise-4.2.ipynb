{
 "cells": [
  {
   "cell_type": "code",
   "execution_count": 2,
   "metadata": {},
   "outputs": [
    {
     "name": "stderr",
     "output_type": "stream",
     "text": [
      "/home/jtloong/anaconda3/lib/python3.6/site-packages/statsmodels/compat/pandas.py:56: FutureWarning: The pandas.core.datetools module is deprecated and will be removed in a future version. Please use the pandas.tseries module instead.\n",
      "  from pandas.core import datetools\n"
     ]
    }
   ],
   "source": [
    "import pandas as pd\n",
    "import numpy as np\n",
    "from sklearn.linear_model import LinearRegression\n",
    "from sklearn.metrics import r2_score\n",
    "import statsmodels\n",
    "import statsmodels.api as sm"
   ]
  },
  {
   "cell_type": "code",
   "execution_count": 3,
   "metadata": {
    "collapsed": true
   },
   "outputs": [],
   "source": [
    "data = pd.read_csv('TrainExer42.csv')"
   ]
  },
  {
   "cell_type": "code",
   "execution_count": 4,
   "metadata": {},
   "outputs": [
    {
     "data": {
      "text/html": [
       "<div>\n",
       "<style>\n",
       "    .dataframe thead tr:only-child th {\n",
       "        text-align: right;\n",
       "    }\n",
       "\n",
       "    .dataframe thead th {\n",
       "        text-align: left;\n",
       "    }\n",
       "\n",
       "    .dataframe tbody tr th {\n",
       "        vertical-align: top;\n",
       "    }\n",
       "</style>\n",
       "<table border=\"1\" class=\"dataframe\">\n",
       "  <thead>\n",
       "    <tr style=\"text-align: right;\">\n",
       "      <th></th>\n",
       "      <th>PRICE0</th>\n",
       "      <th>PRICE1</th>\n",
       "      <th>PRICE5</th>\n",
       "      <th>PRICE10</th>\n",
       "      <th>SALES0_0</th>\n",
       "      <th>SALES0_1</th>\n",
       "      <th>SALES0_5</th>\n",
       "      <th>SALES0_10</th>\n",
       "      <th>SALES1_0</th>\n",
       "      <th>SALES1_1</th>\n",
       "      <th>SALES1_5</th>\n",
       "      <th>SALES1_10</th>\n",
       "      <th>SALES5_0</th>\n",
       "      <th>SALES5_1</th>\n",
       "      <th>SALES5_5</th>\n",
       "      <th>SALES5_10</th>\n",
       "      <th>SALES10_0</th>\n",
       "      <th>SALES10_1</th>\n",
       "      <th>SALES10_5</th>\n",
       "      <th>SALES10_10</th>\n",
       "    </tr>\n",
       "  </thead>\n",
       "  <tbody>\n",
       "    <tr>\n",
       "      <th>0</th>\n",
       "      <td>4.910058</td>\n",
       "      <td>4.910058</td>\n",
       "      <td>4.910058</td>\n",
       "      <td>4.910058</td>\n",
       "      <td>94.639403</td>\n",
       "      <td>94.639403</td>\n",
       "      <td>94.639403</td>\n",
       "      <td>94.639403</td>\n",
       "      <td>94.639403</td>\n",
       "      <td>94.639403</td>\n",
       "      <td>94.639403</td>\n",
       "      <td>94.639403</td>\n",
       "      <td>94.639403</td>\n",
       "      <td>94.639403</td>\n",
       "      <td>94.639403</td>\n",
       "      <td>94.639403</td>\n",
       "      <td>94.639403</td>\n",
       "      <td>94.639403</td>\n",
       "      <td>94.639403</td>\n",
       "      <td>94.639403</td>\n",
       "    </tr>\n",
       "    <tr>\n",
       "      <th>1</th>\n",
       "      <td>3.216531</td>\n",
       "      <td>3.216531</td>\n",
       "      <td>3.216531</td>\n",
       "      <td>3.216531</td>\n",
       "      <td>97.302124</td>\n",
       "      <td>97.302124</td>\n",
       "      <td>97.302124</td>\n",
       "      <td>97.302124</td>\n",
       "      <td>97.302124</td>\n",
       "      <td>97.302124</td>\n",
       "      <td>97.302124</td>\n",
       "      <td>97.302124</td>\n",
       "      <td>97.302124</td>\n",
       "      <td>97.302124</td>\n",
       "      <td>97.302124</td>\n",
       "      <td>97.302124</td>\n",
       "      <td>97.302124</td>\n",
       "      <td>97.302124</td>\n",
       "      <td>97.302124</td>\n",
       "      <td>97.302124</td>\n",
       "    </tr>\n",
       "    <tr>\n",
       "      <th>2</th>\n",
       "      <td>5.978282</td>\n",
       "      <td>6.978282</td>\n",
       "      <td>10.978282</td>\n",
       "      <td>15.978282</td>\n",
       "      <td>94.505123</td>\n",
       "      <td>93.505123</td>\n",
       "      <td>89.505123</td>\n",
       "      <td>84.505123</td>\n",
       "      <td>95.505123</td>\n",
       "      <td>94.505123</td>\n",
       "      <td>90.505123</td>\n",
       "      <td>85.505123</td>\n",
       "      <td>99.505123</td>\n",
       "      <td>98.505123</td>\n",
       "      <td>94.505123</td>\n",
       "      <td>89.505123</td>\n",
       "      <td>104.505123</td>\n",
       "      <td>103.505123</td>\n",
       "      <td>99.505123</td>\n",
       "      <td>94.505123</td>\n",
       "    </tr>\n",
       "    <tr>\n",
       "      <th>3</th>\n",
       "      <td>4.042785</td>\n",
       "      <td>4.042785</td>\n",
       "      <td>4.042785</td>\n",
       "      <td>4.042785</td>\n",
       "      <td>96.105608</td>\n",
       "      <td>96.105608</td>\n",
       "      <td>96.105608</td>\n",
       "      <td>96.105608</td>\n",
       "      <td>96.105608</td>\n",
       "      <td>96.105608</td>\n",
       "      <td>96.105608</td>\n",
       "      <td>96.105608</td>\n",
       "      <td>96.105608</td>\n",
       "      <td>96.105608</td>\n",
       "      <td>96.105608</td>\n",
       "      <td>96.105608</td>\n",
       "      <td>96.105608</td>\n",
       "      <td>96.105608</td>\n",
       "      <td>96.105608</td>\n",
       "      <td>96.105608</td>\n",
       "    </tr>\n",
       "    <tr>\n",
       "      <th>4</th>\n",
       "      <td>4.017662</td>\n",
       "      <td>4.017662</td>\n",
       "      <td>4.017662</td>\n",
       "      <td>4.017662</td>\n",
       "      <td>95.123336</td>\n",
       "      <td>95.123336</td>\n",
       "      <td>95.123336</td>\n",
       "      <td>95.123336</td>\n",
       "      <td>95.123336</td>\n",
       "      <td>95.123336</td>\n",
       "      <td>95.123336</td>\n",
       "      <td>95.123336</td>\n",
       "      <td>95.123336</td>\n",
       "      <td>95.123336</td>\n",
       "      <td>95.123336</td>\n",
       "      <td>95.123336</td>\n",
       "      <td>95.123336</td>\n",
       "      <td>95.123336</td>\n",
       "      <td>95.123336</td>\n",
       "      <td>95.123336</td>\n",
       "    </tr>\n",
       "  </tbody>\n",
       "</table>\n",
       "</div>"
      ],
      "text/plain": [
       "     PRICE0    PRICE1     PRICE5    PRICE10   SALES0_0   SALES0_1   SALES0_5  \\\n",
       "0  4.910058  4.910058   4.910058   4.910058  94.639403  94.639403  94.639403   \n",
       "1  3.216531  3.216531   3.216531   3.216531  97.302124  97.302124  97.302124   \n",
       "2  5.978282  6.978282  10.978282  15.978282  94.505123  93.505123  89.505123   \n",
       "3  4.042785  4.042785   4.042785   4.042785  96.105608  96.105608  96.105608   \n",
       "4  4.017662  4.017662   4.017662   4.017662  95.123336  95.123336  95.123336   \n",
       "\n",
       "   SALES0_10   SALES1_0   SALES1_1   SALES1_5  SALES1_10   SALES5_0  \\\n",
       "0  94.639403  94.639403  94.639403  94.639403  94.639403  94.639403   \n",
       "1  97.302124  97.302124  97.302124  97.302124  97.302124  97.302124   \n",
       "2  84.505123  95.505123  94.505123  90.505123  85.505123  99.505123   \n",
       "3  96.105608  96.105608  96.105608  96.105608  96.105608  96.105608   \n",
       "4  95.123336  95.123336  95.123336  95.123336  95.123336  95.123336   \n",
       "\n",
       "    SALES5_1   SALES5_5  SALES5_10   SALES10_0   SALES10_1  SALES10_5  \\\n",
       "0  94.639403  94.639403  94.639403   94.639403   94.639403  94.639403   \n",
       "1  97.302124  97.302124  97.302124   97.302124   97.302124  97.302124   \n",
       "2  98.505123  94.505123  89.505123  104.505123  103.505123  99.505123   \n",
       "3  96.105608  96.105608  96.105608   96.105608   96.105608  96.105608   \n",
       "4  95.123336  95.123336  95.123336   95.123336   95.123336  95.123336   \n",
       "\n",
       "   SALES10_10  \n",
       "0   94.639403  \n",
       "1   97.302124  \n",
       "2   94.505123  \n",
       "3   96.105608  \n",
       "4   95.123336  "
      ]
     },
     "execution_count": 4,
     "metadata": {},
     "output_type": "execute_result"
    }
   ],
   "source": [
    "data.head()"
   ]
  },
  {
   "cell_type": "markdown",
   "metadata": {},
   "source": [
    "# Section A - Compare Regressions"
   ]
  },
  {
   "cell_type": "code",
   "execution_count": 6,
   "metadata": {},
   "outputs": [],
   "source": [
    "price_0 = data[['PRICE0']]\n",
    "price_1 = data[['PRICE1']]\n",
    "price_5 = data[['PRICE5']]\n",
    "price_10 = data[['PRICE10']]\n",
    "sales_0 = data['SALES0_0']\n",
    "sales_1 = data['SALES0_1']\n",
    "sales_5 = data['SALES0_5']\n",
    "sales_10 = data['SALES0_10']"
   ]
  },
  {
   "cell_type": "code",
   "execution_count": 8,
   "metadata": {},
   "outputs": [],
   "source": [
    "models_a = []\n",
    "for i in range(0,4):\n",
    "    models_a.append(LinearRegression())"
   ]
  },
  {
   "cell_type": "code",
   "execution_count": 9,
   "metadata": {},
   "outputs": [
    {
     "data": {
      "text/plain": [
       "LinearRegression(copy_X=True, fit_intercept=True, n_jobs=1, normalize=False)"
      ]
     },
     "execution_count": 9,
     "metadata": {},
     "output_type": "execute_result"
    }
   ],
   "source": [
    "models_a[0].fit(price_0, sales_0)\n",
    "models_a[1].fit(price_1, sales_1)\n",
    "models_a[2].fit(price_5, sales_5)\n",
    "models_a[3].fit(price_10, sales_10)"
   ]
  },
  {
   "cell_type": "code",
   "execution_count": 10,
   "metadata": {
    "collapsed": true
   },
   "outputs": [],
   "source": [
    "predict_0 = models_a[0].predict(price_0)\n",
    "predict_1 = models_a[1].predict(price_1)\n",
    "predict_5 = models_a[2].predict(price_5)\n",
    "predict_10 = models_a[3].predict(price_10)"
   ]
  },
  {
   "cell_type": "code",
   "execution_count": 11,
   "metadata": {},
   "outputs": [
    {
     "name": "stdout",
     "output_type": "stream",
     "text": [
      "R^2 for 0:\n",
      "0.794442966304\n",
      "------\n",
      "R^2 for 1:\n",
      "0.80807973909\n",
      "------\n",
      "R^2 for 5:\n",
      "0.93038198893\n",
      "------\n",
      "R^2 for 10:\n",
      "0.976907308372\n",
      "------\n"
     ]
    }
   ],
   "source": [
    "print('R^2 for 0:')\n",
    "print(r2_score(sales_0, predict_0))\n",
    "print('------')\n",
    "print('R^2 for 1:')\n",
    "print(r2_score(sales_1, predict_1))\n",
    "print('------')\n",
    "print('R^2 for 5:')\n",
    "print(r2_score(sales_5, predict_5))\n",
    "print('------')\n",
    "print('R^2 for 10:')\n",
    "print(r2_score(sales_10, predict_10))\n",
    "print('------')"
   ]
  },
  {
   "cell_type": "markdown",
   "metadata": {},
   "source": [
    "There seems to be a pattern where as Beta increases in value the R^2 increases as well."
   ]
  },
  {
   "cell_type": "markdown",
   "metadata": {},
   "source": [
    "# Section B - Compare More Regressions"
   ]
  },
  {
   "cell_type": "code",
   "execution_count": 12,
   "metadata": {
    "collapsed": true
   },
   "outputs": [],
   "source": [
    "sales_0 = data['SALES0_0']\n",
    "sales_1 = data['SALES1_0']\n",
    "sales_5 = data['SALES5_0']\n",
    "sales_10 = data['SALES10_0']"
   ]
  },
  {
   "cell_type": "code",
   "execution_count": 13,
   "metadata": {
    "collapsed": true
   },
   "outputs": [],
   "source": [
    "models_b = []\n",
    "for i in range(0,4):\n",
    "    models_b.append(LinearRegression())"
   ]
  },
  {
   "cell_type": "code",
   "execution_count": 15,
   "metadata": {},
   "outputs": [
    {
     "data": {
      "text/plain": [
       "LinearRegression(copy_X=True, fit_intercept=True, n_jobs=1, normalize=False)"
      ]
     },
     "execution_count": 15,
     "metadata": {},
     "output_type": "execute_result"
    }
   ],
   "source": [
    "models_b[0].fit(price_0, sales_0)\n",
    "models_b[1].fit(price_0, sales_1)\n",
    "models_b[2].fit(price_0, sales_5)\n",
    "models_b[3].fit(price_0, sales_10)"
   ]
  },
  {
   "cell_type": "code",
   "execution_count": 16,
   "metadata": {
    "collapsed": true
   },
   "outputs": [],
   "source": [
    "predict_0 = models_b[0].predict(price_0)\n",
    "predict_1 = models_b[1].predict(price_0)\n",
    "predict_5 = models_b[2].predict(price_0)\n",
    "predict_10 = models_b[3].predict(price_0)"
   ]
  },
  {
   "cell_type": "code",
   "execution_count": 17,
   "metadata": {},
   "outputs": [
    {
     "name": "stdout",
     "output_type": "stream",
     "text": [
      "R^2 for 0:\n",
      "0.794442966304\n",
      "------\n",
      "R^2 for 1:\n",
      "0.718181261584\n",
      "------\n",
      "R^2 for 5:\n",
      "0.243242197843\n",
      "------\n",
      "R^2 for 10:\n",
      "0.0759876542244\n",
      "------\n"
     ]
    }
   ],
   "source": [
    "print('R^2 for 0:')\n",
    "print(r2_score(sales_0, predict_0))\n",
    "print('------')\n",
    "print('R^2 for 1:')\n",
    "print(r2_score(sales_1, predict_1))\n",
    "print('------')\n",
    "print('R^2 for 5:')\n",
    "print(r2_score(sales_5, predict_5))\n",
    "print('------')\n",
    "print('R^2 for 10:')\n",
    "print(r2_score(sales_10, predict_10))\n",
    "print('------')"
   ]
  },
  {
   "cell_type": "markdown",
   "metadata": {},
   "source": [
    "Rapidly decreasing in predictive value"
   ]
  },
  {
   "cell_type": "markdown",
   "metadata": {},
   "source": [
    "# Section C - Compare More "
   ]
  },
  {
   "cell_type": "code",
   "execution_count": 18,
   "metadata": {
    "collapsed": true
   },
   "outputs": [],
   "source": [
    "sales_0 = data['SALES0_0']\n",
    "sales_1 = data['SALES1_1']\n",
    "sales_5 = data['SALES5_5']\n",
    "sales_10 = data['SALES10_10']"
   ]
  },
  {
   "cell_type": "code",
   "execution_count": 19,
   "metadata": {
    "collapsed": true
   },
   "outputs": [],
   "source": [
    "models_c = []\n",
    "for i in range(0,4):\n",
    "    models_c.append(LinearRegression())"
   ]
  },
  {
   "cell_type": "code",
   "execution_count": 20,
   "metadata": {},
   "outputs": [
    {
     "data": {
      "text/plain": [
       "LinearRegression(copy_X=True, fit_intercept=True, n_jobs=1, normalize=False)"
      ]
     },
     "execution_count": 20,
     "metadata": {},
     "output_type": "execute_result"
    }
   ],
   "source": [
    "models_c[0].fit(price_0, sales_0)\n",
    "models_c[1].fit(price_1, sales_1)\n",
    "models_c[2].fit(price_5, sales_5)\n",
    "models_c[3].fit(price_10, sales_10)"
   ]
  },
  {
   "cell_type": "code",
   "execution_count": 21,
   "metadata": {
    "collapsed": true
   },
   "outputs": [],
   "source": [
    "predict_0 = models_c[0].predict(price_0)\n",
    "predict_1 = models_c[1].predict(price_1)\n",
    "predict_5 = models_c[2].predict(price_5)\n",
    "predict_10 = models_c[3].predict(price_10)"
   ]
  },
  {
   "cell_type": "code",
   "execution_count": 22,
   "metadata": {},
   "outputs": [
    {
     "name": "stdout",
     "output_type": "stream",
     "text": [
      "R^2 for 0:\n",
      "0.794442966304\n",
      "------\n",
      "R^2 for 1:\n",
      "0.706444756186\n",
      "------\n",
      "R^2 for 5:\n",
      "0.214315669554\n",
      "------\n",
      "R^2 for 10:\n",
      "0.0643393703279\n",
      "------\n"
     ]
    }
   ],
   "source": [
    "print('R^2 for 0:')\n",
    "print(r2_score(sales_0, predict_0))\n",
    "print('------')\n",
    "print('R^2 for 1:')\n",
    "print(r2_score(sales_1, predict_1))\n",
    "print('------')\n",
    "print('R^2 for 5:')\n",
    "print(r2_score(sales_5, predict_5))\n",
    "print('------')\n",
    "print('R^2 for 10:')\n",
    "print(r2_score(sales_10, predict_10))\n",
    "print('------')"
   ]
  },
  {
   "cell_type": "code",
   "execution_count": null,
   "metadata": {
    "collapsed": true
   },
   "outputs": [],
   "source": []
  }
 ],
 "metadata": {
  "kernelspec": {
   "display_name": "Python 3",
   "language": "python",
   "name": "python3"
  },
  "language_info": {
   "codemirror_mode": {
    "name": "ipython",
    "version": 3
   },
   "file_extension": ".py",
   "mimetype": "text/x-python",
   "name": "python",
   "nbconvert_exporter": "python",
   "pygments_lexer": "ipython3",
   "version": "3.6.4"
  }
 },
 "nbformat": 4,
 "nbformat_minor": 2
}
