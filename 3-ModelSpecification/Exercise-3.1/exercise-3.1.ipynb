{
 "cells": [
  {
   "cell_type": "code",
   "execution_count": 92,
   "metadata": {},
   "outputs": [
    {
     "name": "stderr",
     "output_type": "stream",
     "text": [
      "/home/jtloong/anaconda3/lib/python3.6/site-packages/statsmodels/compat/pandas.py:56: FutureWarning: The pandas.core.datetools module is deprecated and will be removed in a future version. Please use the pandas.tseries module instead.\n",
      "  from pandas.core import datetools\n"
     ]
    }
   ],
   "source": [
    "import pandas as pd\n",
    "import numpy as np\n",
    "from sklearn.linear_model import LinearRegression\n",
    "from sklearn.metrics import r2_score, mean_squared_error\n",
    "import statsmodels\n",
    "import statsmodels.api as sm"
   ]
  },
  {
   "cell_type": "code",
   "execution_count": 2,
   "metadata": {
    "collapsed": true
   },
   "outputs": [],
   "source": [
    "data = pd.read_csv(\"TrainExer 3-1.csv\")"
   ]
  },
  {
   "cell_type": "code",
   "execution_count": 3,
   "metadata": {},
   "outputs": [
    {
     "data": {
      "text/html": [
       "<div>\n",
       "<style>\n",
       "    .dataframe thead tr:only-child th {\n",
       "        text-align: right;\n",
       "    }\n",
       "\n",
       "    .dataframe thead th {\n",
       "        text-align: left;\n",
       "    }\n",
       "\n",
       "    .dataframe tbody tr th {\n",
       "        vertical-align: top;\n",
       "    }\n",
       "</style>\n",
       "<table border=\"1\" class=\"dataframe\">\n",
       "  <thead>\n",
       "    <tr style=\"text-align: right;\">\n",
       "      <th></th>\n",
       "      <th>Year</th>\n",
       "      <th>Index</th>\n",
       "      <th>Dividends</th>\n",
       "      <th>Riskfree</th>\n",
       "      <th>LogEqPrem</th>\n",
       "      <th>BookMarket</th>\n",
       "      <th>NTIS</th>\n",
       "      <th>DivPrice</th>\n",
       "      <th>EarnPrice</th>\n",
       "      <th>Inflation</th>\n",
       "    </tr>\n",
       "  </thead>\n",
       "  <tbody>\n",
       "    <tr>\n",
       "      <th>0</th>\n",
       "      <td>1927</td>\n",
       "      <td>17.66</td>\n",
       "      <td>0.77</td>\n",
       "      <td>0.0317</td>\n",
       "      <td>0.280823</td>\n",
       "      <td>0.374689</td>\n",
       "      <td>0.073955</td>\n",
       "      <td>-3.133</td>\n",
       "      <td>-2.767</td>\n",
       "      <td>-0.021176</td>\n",
       "    </tr>\n",
       "    <tr>\n",
       "      <th>1</th>\n",
       "      <td>1928</td>\n",
       "      <td>24.35</td>\n",
       "      <td>0.85</td>\n",
       "      <td>0.0426</td>\n",
       "      <td>0.313824</td>\n",
       "      <td>0.259667</td>\n",
       "      <td>0.042639</td>\n",
       "      <td>-3.355</td>\n",
       "      <td>-2.870</td>\n",
       "      <td>-0.009793</td>\n",
       "    </tr>\n",
       "    <tr>\n",
       "      <th>2</th>\n",
       "      <td>1929</td>\n",
       "      <td>21.45</td>\n",
       "      <td>0.97</td>\n",
       "      <td>0.0303</td>\n",
       "      <td>-0.112428</td>\n",
       "      <td>0.338458</td>\n",
       "      <td>0.165576</td>\n",
       "      <td>-3.096</td>\n",
       "      <td>-2.589</td>\n",
       "      <td>0.001830</td>\n",
       "    </tr>\n",
       "    <tr>\n",
       "      <th>3</th>\n",
       "      <td>1930</td>\n",
       "      <td>15.34</td>\n",
       "      <td>0.98</td>\n",
       "      <td>0.0148</td>\n",
       "      <td>-0.288025</td>\n",
       "      <td>0.554745</td>\n",
       "      <td>0.131525</td>\n",
       "      <td>-2.751</td>\n",
       "      <td>-2.761</td>\n",
       "      <td>-0.060665</td>\n",
       "    </tr>\n",
       "    <tr>\n",
       "      <th>4</th>\n",
       "      <td>1931</td>\n",
       "      <td>8.12</td>\n",
       "      <td>0.82</td>\n",
       "      <td>0.0241</td>\n",
       "      <td>-0.563742</td>\n",
       "      <td>1.170732</td>\n",
       "      <td>-0.011032</td>\n",
       "      <td>-2.293</td>\n",
       "      <td>-2.589</td>\n",
       "      <td>-0.095711</td>\n",
       "    </tr>\n",
       "  </tbody>\n",
       "</table>\n",
       "</div>"
      ],
      "text/plain": [
       "   Year  Index  Dividends  Riskfree  LogEqPrem  BookMarket      NTIS  \\\n",
       "0  1927  17.66       0.77    0.0317   0.280823    0.374689  0.073955   \n",
       "1  1928  24.35       0.85    0.0426   0.313824    0.259667  0.042639   \n",
       "2  1929  21.45       0.97    0.0303  -0.112428    0.338458  0.165576   \n",
       "3  1930  15.34       0.98    0.0148  -0.288025    0.554745  0.131525   \n",
       "4  1931   8.12       0.82    0.0241  -0.563742    1.170732 -0.011032   \n",
       "\n",
       "   DivPrice  EarnPrice  Inflation  \n",
       "0    -3.133     -2.767  -0.021176  \n",
       "1    -3.355     -2.870  -0.009793  \n",
       "2    -3.096     -2.589   0.001830  \n",
       "3    -2.751     -2.761  -0.060665  \n",
       "4    -2.293     -2.589  -0.095711  "
      ]
     },
     "execution_count": 3,
     "metadata": {},
     "output_type": "execute_result"
    }
   ],
   "source": [
    "data.head()"
   ]
  },
  {
   "cell_type": "markdown",
   "metadata": {},
   "source": [
    "# Section A - Regress Log of S&P Index by Book Market Ratio"
   ]
  },
  {
   "cell_type": "code",
   "execution_count": 82,
   "metadata": {},
   "outputs": [],
   "source": [
    "x = data[['BookMarket']]\n",
    "y = data['Index']"
   ]
  },
  {
   "cell_type": "code",
   "execution_count": 83,
   "metadata": {},
   "outputs": [
    {
     "name": "stderr",
     "output_type": "stream",
     "text": [
      "/home/jtloong/anaconda3/lib/python3.6/site-packages/ipykernel_launcher.py:3: SettingWithCopyWarning: \n",
      "A value is trying to be set on a copy of a slice from a DataFrame\n",
      "\n",
      "See the caveats in the documentation: http://pandas.pydata.org/pandas-docs/stable/indexing.html#indexing-view-versus-copy\n",
      "  This is separate from the ipykernel package so we can avoid doing imports until\n"
     ]
    }
   ],
   "source": [
    "# Index columna had commas that pandas read as strings instead of floats\n",
    "for i, num in enumerate(y):\n",
    "    y[i] = num.replace(\",\", '')\n",
    "\n",
    "y = y.astype(np.float)\n",
    "\n",
    "y = np.log(y)"
   ]
  },
  {
   "cell_type": "code",
   "execution_count": 84,
   "metadata": {},
   "outputs": [],
   "source": [
    "new_y = []\n",
    "for i, num in enumerate(y):\n",
    "#     print(i)\n",
    "#     print(num)\n",
    "#     print(y[i+1])\n",
    "    if(i ==(len(y) - 1)):\n",
    "        break\n",
    "    else:\n",
    "        new_y.append([y[i+1] - num])\n",
    "\n",
    "new_y = np.array(new_y)"
   ]
  },
  {
   "cell_type": "code",
   "execution_count": 85,
   "metadata": {},
   "outputs": [
    {
     "data": {
      "text/plain": [
       "LinearRegression(copy_X=True, fit_intercept=True, n_jobs=1, normalize=False)"
      ]
     },
     "execution_count": 85,
     "metadata": {},
     "output_type": "execute_result"
    }
   ],
   "source": [
    "lm = LinearRegression()\n",
    "lm.fit(x[1:], new_y)"
   ]
  },
  {
   "cell_type": "code",
   "execution_count": 86,
   "metadata": {},
   "outputs": [
    {
     "name": "stdout",
     "output_type": "stream",
     "text": [
      "[[-0.21331607]]\n",
      "[ 0.17695242]\n"
     ]
    }
   ],
   "source": [
    "print(lm.coef_)\n",
    "print(lm.intercept_)"
   ]
  },
  {
   "cell_type": "markdown",
   "metadata": {},
   "source": [
    "# Section B - Regress Normal S&P Index by BookMarket Ratio"
   ]
  },
  {
   "cell_type": "code",
   "execution_count": 101,
   "metadata": {},
   "outputs": [
    {
     "name": "stdout",
     "output_type": "stream",
     "text": [
      "                            OLS Regression Results                            \n",
      "==============================================================================\n",
      "Dep. Variable:                      y   R-squared:                       0.089\n",
      "Model:                            OLS   Adj. R-squared:                  0.079\n",
      "Method:                 Least Squares   F-statistic:                     8.414\n",
      "Date:                Sun, 31 Dec 2017   Prob (F-statistic):            0.00473\n",
      "Time:                        00:39:51   Log-Likelihood:                -674.11\n",
      "No. Observations:                  87   AIC:                             1350.\n",
      "Df Residuals:                      86   BIC:                             1353.\n",
      "Df Model:                           1                                         \n",
      "Covariance Type:            nonrobust                                         \n",
      "==============================================================================\n",
      "                 coef    std err          t      P>|t|      [0.025      0.975]\n",
      "------------------------------------------------------------------------------\n",
      "BookMarket   278.3952     95.978      2.901      0.005      87.597     469.193\n",
      "==============================================================================\n",
      "Omnibus:                       21.285   Durbin-Watson:                   0.049\n",
      "Prob(Omnibus):                  0.000   Jarque-Bera (JB):               28.032\n",
      "Skew:                           1.372   Prob(JB):                     8.18e-07\n",
      "Kurtosis:                       3.451   Cond. No.                         1.00\n",
      "==============================================================================\n",
      "\n",
      "Warnings:\n",
      "[1] Standard Errors assume that the covariance matrix of the errors is correctly specified.\n"
     ]
    },
    {
     "data": {
      "text/plain": [
       "LinearRegression(copy_X=True, fit_intercept=True, n_jobs=1, normalize=False)"
      ]
     },
     "execution_count": 101,
     "metadata": {},
     "output_type": "execute_result"
    }
   ],
   "source": [
    "y = np.asarray(data['Index'])\n",
    "for i, num in enumerate(y):\n",
    "    y[i] = num.replace(\",\", '')\n",
    "\n",
    "y = y.astype(np.float)\n",
    "model = sm.OLS(y, x)\n",
    "results = model.fit()\n",
    "print(results.summary())\n",
    "lm_normal = LinearRegression()\n",
    "lm_normal.fit(x, y)"
   ]
  },
  {
   "cell_type": "markdown",
   "metadata": {},
   "source": [
    "# Section C - Graph Residuals"
   ]
  },
  {
   "cell_type": "code",
   "execution_count": 102,
   "metadata": {},
   "outputs": [],
   "source": [
    "predictions_log = lm.predict(x)\n",
    "predictions =lm_normal.predict(x)\n",
    "\n",
    "residuals = predictions - y\n",
    "residuals_log = predictions_log - y"
   ]
  },
  {
   "cell_type": "code",
   "execution_count": 103,
   "metadata": {
    "collapsed": true
   },
   "outputs": [],
   "source": [
    "import matplotlib.pyplot as plt\n",
    "%matplotlib inline"
   ]
  },
  {
   "cell_type": "code",
   "execution_count": 104,
   "metadata": {},
   "outputs": [
    {
     "data": {
      "text/plain": [
       "[<matplotlib.lines.Line2D at 0x7f5ad57de9e8>]"
      ]
     },
     "execution_count": 104,
     "metadata": {},
     "output_type": "execute_result"
    },
    {
     "data": {
      "image/png": "[encoded data removed]",
      "text/plain": [
       "<matplotlib.figure.Figure at 0x7f5ad57de9b0>"
      ]
     },
     "metadata": {},
     "output_type": "display_data"
    }
   ],
   "source": [
    "plt.plot(x, residuals)\n",
    "plt.plot(x, residuals_log)"
   ]
  },
  {
   "cell_type": "code",
   "execution_count": null,
   "metadata": {
    "collapsed": true
   },
   "outputs": [],
   "source": []
  }
 ],
 "metadata": {
  "kernelspec": {
   "display_name": "Python 3",
   "language": "python",
   "name": "python3"
  },
  "language_info": {
   "codemirror_mode": {
    "name": "ipython",
    "version": 3
   },
   "file_extension": ".py",
   "mimetype": "text/x-python",
   "name": "python",
   "nbconvert_exporter": "python",
   "pygments_lexer": "ipython3",
   "version": "3.6.4"
  }
 },
 "nbformat": 4,
 "nbformat_minor": 2
}
