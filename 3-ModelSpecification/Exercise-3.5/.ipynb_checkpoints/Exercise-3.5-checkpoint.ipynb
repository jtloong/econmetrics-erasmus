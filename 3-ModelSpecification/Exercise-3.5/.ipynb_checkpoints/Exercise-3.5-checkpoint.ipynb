{
 "cells": [
  {
   "cell_type": "code",
   "execution_count": 1,
   "metadata": {
    "collapsed": true
   },
   "outputs": [],
   "source": [
    "import pandas as pd\n",
    "import numpy as np\n",
    "from sklearn.linear_model import LinearRegression\n",
    "from sklearn.metrics import r2_score"
   ]
  },
  {
   "cell_type": "code",
   "execution_count": 2,
   "metadata": {
    "collapsed": true
   },
   "outputs": [],
   "source": [
    "data = pd.read_csv('TrainExer 3-1.csv')"
   ]
  },
  {
   "cell_type": "code",
   "execution_count": 3,
   "metadata": {},
   "outputs": [
    {
     "data": {
      "text/html": [
       "<div>\n",
       "<style>\n",
       "    .dataframe thead tr:only-child th {\n",
       "        text-align: right;\n",
       "    }\n",
       "\n",
       "    .dataframe thead th {\n",
       "        text-align: left;\n",
       "    }\n",
       "\n",
       "    .dataframe tbody tr th {\n",
       "        vertical-align: top;\n",
       "    }\n",
       "</style>\n",
       "<table border=\"1\" class=\"dataframe\">\n",
       "  <thead>\n",
       "    <tr style=\"text-align: right;\">\n",
       "      <th></th>\n",
       "      <th>Year</th>\n",
       "      <th>Index</th>\n",
       "      <th>Dividends</th>\n",
       "      <th>Riskfree</th>\n",
       "      <th>LogEqPrem</th>\n",
       "      <th>BookMarket</th>\n",
       "      <th>NTIS</th>\n",
       "      <th>DivPrice</th>\n",
       "      <th>EarnPrice</th>\n",
       "      <th>Inflation</th>\n",
       "    </tr>\n",
       "  </thead>\n",
       "  <tbody>\n",
       "    <tr>\n",
       "      <th>0</th>\n",
       "      <td>1927</td>\n",
       "      <td>17.66</td>\n",
       "      <td>0.77</td>\n",
       "      <td>0.0317</td>\n",
       "      <td>0.280823</td>\n",
       "      <td>0.374689</td>\n",
       "      <td>0.073955</td>\n",
       "      <td>-3.133</td>\n",
       "      <td>-2.767</td>\n",
       "      <td>-0.021176</td>\n",
       "    </tr>\n",
       "    <tr>\n",
       "      <th>1</th>\n",
       "      <td>1928</td>\n",
       "      <td>24.35</td>\n",
       "      <td>0.85</td>\n",
       "      <td>0.0426</td>\n",
       "      <td>0.313824</td>\n",
       "      <td>0.259667</td>\n",
       "      <td>0.042639</td>\n",
       "      <td>-3.355</td>\n",
       "      <td>-2.870</td>\n",
       "      <td>-0.009793</td>\n",
       "    </tr>\n",
       "    <tr>\n",
       "      <th>2</th>\n",
       "      <td>1929</td>\n",
       "      <td>21.45</td>\n",
       "      <td>0.97</td>\n",
       "      <td>0.0303</td>\n",
       "      <td>-0.112428</td>\n",
       "      <td>0.338458</td>\n",
       "      <td>0.165576</td>\n",
       "      <td>-3.096</td>\n",
       "      <td>-2.589</td>\n",
       "      <td>0.001830</td>\n",
       "    </tr>\n",
       "    <tr>\n",
       "      <th>3</th>\n",
       "      <td>1930</td>\n",
       "      <td>15.34</td>\n",
       "      <td>0.98</td>\n",
       "      <td>0.0148</td>\n",
       "      <td>-0.288025</td>\n",
       "      <td>0.554745</td>\n",
       "      <td>0.131525</td>\n",
       "      <td>-2.751</td>\n",
       "      <td>-2.761</td>\n",
       "      <td>-0.060665</td>\n",
       "    </tr>\n",
       "    <tr>\n",
       "      <th>4</th>\n",
       "      <td>1931</td>\n",
       "      <td>8.12</td>\n",
       "      <td>0.82</td>\n",
       "      <td>0.0241</td>\n",
       "      <td>-0.563742</td>\n",
       "      <td>1.170732</td>\n",
       "      <td>-0.011032</td>\n",
       "      <td>-2.293</td>\n",
       "      <td>-2.589</td>\n",
       "      <td>-0.095711</td>\n",
       "    </tr>\n",
       "  </tbody>\n",
       "</table>\n",
       "</div>"
      ],
      "text/plain": [
       "   Year  Index  Dividends  Riskfree  LogEqPrem  BookMarket      NTIS  \\\n",
       "0  1927  17.66       0.77    0.0317   0.280823    0.374689  0.073955   \n",
       "1  1928  24.35       0.85    0.0426   0.313824    0.259667  0.042639   \n",
       "2  1929  21.45       0.97    0.0303  -0.112428    0.338458  0.165576   \n",
       "3  1930  15.34       0.98    0.0148  -0.288025    0.554745  0.131525   \n",
       "4  1931   8.12       0.82    0.0241  -0.563742    1.170732 -0.011032   \n",
       "\n",
       "   DivPrice  EarnPrice  Inflation  \n",
       "0    -3.133     -2.767  -0.021176  \n",
       "1    -3.355     -2.870  -0.009793  \n",
       "2    -3.096     -2.589   0.001830  \n",
       "3    -2.751     -2.761  -0.060665  \n",
       "4    -2.293     -2.589  -0.095711  "
      ]
     },
     "execution_count": 3,
     "metadata": {},
     "output_type": "execute_result"
    }
   ],
   "source": [
    "data.head()"
   ]
  },
  {
   "cell_type": "markdown",
   "metadata": {},
   "source": [
    "# Section A - Regression Comparison"
   ]
  },
  {
   "cell_type": "code",
   "execution_count": 4,
   "metadata": {
    "collapsed": true
   },
   "outputs": [],
   "source": [
    "y = data['LogEqPrem']\n",
    "x_all = data[['BookMarket', 'NTIS', 'DivPrice', 'EarnPrice', 'Inflation']]\n",
    "x_book = data[['BookMarket']]"
   ]
  },
  {
   "cell_type": "code",
   "execution_count": 5,
   "metadata": {
    "collapsed": true
   },
   "outputs": [],
   "source": [
    "lm_all = LinearRegression()\n",
    "lm_book = LinearRegression()"
   ]
  },
  {
   "cell_type": "code",
   "execution_count": 6,
   "metadata": {},
   "outputs": [
    {
     "data": {
      "text/plain": [
       "LinearRegression(copy_X=True, fit_intercept=True, n_jobs=1, normalize=False)"
      ]
     },
     "execution_count": 6,
     "metadata": {},
     "output_type": "execute_result"
    }
   ],
   "source": [
    "lm_all.fit(x_all, y)\n",
    "lm_book.fit(x_book, y)"
   ]
  },
  {
   "cell_type": "code",
   "execution_count": 7,
   "metadata": {
    "collapsed": true
   },
   "outputs": [],
   "source": [
    "predictions_all = lm_all.predict(x_all)\n",
    "predictions_book = lm_book.predict(x_book)"
   ]
  },
  {
   "cell_type": "code",
   "execution_count": 9,
   "metadata": {},
   "outputs": [
    {
     "name": "stdout",
     "output_type": "stream",
     "text": [
      "All Variables:\n",
      "0.108480428171\n",
      "Just Book Market:\n",
      "0.0633476320596\n"
     ]
    }
   ],
   "source": [
    "print('All Variables:')\n",
    "print(r2_score(y, predictions_all))\n",
    "print('Just Book Market:')\n",
    "print(r2_score(y, predictions_book))"
   ]
  },
  {
   "cell_type": "markdown",
   "metadata": {},
   "source": [
    "# Section B - Ramsey RESET Test"
   ]
  },
  {
   "cell_type": "code",
   "execution_count": 11,
   "metadata": {
    "collapsed": true
   },
   "outputs": [],
   "source": [
    "data['FittedLogEqPrem'] = predictions_book"
   ]
  },
  {
   "cell_type": "code",
   "execution_count": 12,
   "metadata": {
    "collapsed": true
   },
   "outputs": [],
   "source": [
    "x_ramsey = data[['BookMarket', 'FittedLogEqPrem']]"
   ]
  },
  {
   "cell_type": "code",
   "execution_count": 14,
   "metadata": {},
   "outputs": [
    {
     "name": "stderr",
     "output_type": "stream",
     "text": [
      "/home/jtloong/anaconda3/lib/python3.6/site-packages/statsmodels/compat/pandas.py:56: FutureWarning: The pandas.core.datetools module is deprecated and will be removed in a future version. Please use the pandas.tseries module instead.\n",
      "  from pandas.core import datetools\n"
     ]
    }
   ],
   "source": [
    "import statsmodels\n",
    "import statsmodels.api as sm"
   ]
  },
  {
   "cell_type": "code",
   "execution_count": 18,
   "metadata": {},
   "outputs": [
    {
     "name": "stdout",
     "output_type": "stream",
     "text": [
      "                            OLS Regression Results                            \n",
      "==============================================================================\n",
      "Dep. Variable:              LogEqPrem   R-squared:                       0.063\n",
      "Model:                            OLS   Adj. R-squared:                  0.052\n",
      "Method:                 Least Squares   F-statistic:                     5.749\n",
      "Date:                Thu, 04 Jan 2018   Prob (F-statistic):             0.0187\n",
      "Time:                        21:17:55   Log-Likelihood:                 23.150\n",
      "No. Observations:                  87   AIC:                            -42.30\n",
      "Df Residuals:                      85   BIC:                            -37.37\n",
      "Df Model:                           1                                         \n",
      "Covariance Type:            nonrobust                                         \n",
      "===================================================================================\n",
      "                      coef    std err          t      P>|t|      [0.025      0.975]\n",
      "-----------------------------------------------------------------------------------\n",
      "BookMarket       6.245e-17      0.036   1.75e-15      1.000      -0.071       0.071\n",
      "FittedLogEqPrem     1.0000      0.293      3.411      0.001       0.417       1.583\n",
      "==============================================================================\n",
      "Omnibus:                        7.691   Durbin-Watson:                   1.808\n",
      "Prob(Omnibus):                  0.021   Jarque-Bera (JB):                7.155\n",
      "Skew:                          -0.649   Prob(JB):                       0.0279\n",
      "Kurtosis:                       3.536   Cond. No.                         9.21\n",
      "==============================================================================\n",
      "\n",
      "Warnings:\n",
      "[1] Standard Errors assume that the covariance matrix of the errors is correctly specified.\n"
     ]
    }
   ],
   "source": [
    "ramsey_model = sm.OLS(y, x_ramsey)\n",
    "result = ramsey_model.fit()\n",
    "print(result.summary())"
   ]
  },
  {
   "cell_type": "code",
   "execution_count": null,
   "metadata": {
    "collapsed": true
   },
   "outputs": [],
   "source": []
  }
 ],
 "metadata": {
  "kernelspec": {
   "display_name": "Python 3",
   "language": "python",
   "name": "python3"
  },
  "language_info": {
   "codemirror_mode": {
    "name": "ipython",
    "version": 3
   },
   "file_extension": ".py",
   "mimetype": "text/x-python",
   "name": "python",
   "nbconvert_exporter": "python",
   "pygments_lexer": "ipython3",
   "version": "3.6.4"
  }
 },
 "nbformat": 4,
 "nbformat_minor": 2
}
